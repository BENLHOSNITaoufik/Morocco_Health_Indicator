{
 "cells": [
  {
   "cell_type": "markdown",
   "metadata": {},
   "source": [
    "# Health indicator for Morocco"
   ]
  },
  {
   "cell_type": "markdown",
   "metadata": {},
   "source": []
  },
  {
   "cell_type": "markdown",
   "metadata": {},
   "source": [
    "# "
   ]
  },
  {
   "cell_type": "code",
   "execution_count": 1,
   "metadata": {},
   "outputs": [],
   "source": [
    "import pandas as pd\n",
    "import numpy as np\n",
    "import matplotlib.pyplot as plt\n",
    "\n",
    "import warnings\n",
    "warnings.filterwarnings(\"ignore\")\n"
   ]
  },
  {
   "cell_type": "markdown",
   "metadata": {},
   "source": [
    "## Data Acquisition"
   ]
  },
  {
   "cell_type": "markdown",
   "metadata": {},
   "source": [
    "## Load the dataset"
   ]
  },
  {
   "cell_type": "code",
   "execution_count": 2,
   "metadata": {},
   "outputs": [
    {
     "data": {
      "text/html": [
       "<div>\n",
       "<style scoped>\n",
       "    .dataframe tbody tr th:only-of-type {\n",
       "        vertical-align: middle;\n",
       "    }\n",
       "\n",
       "    .dataframe tbody tr th {\n",
       "        vertical-align: top;\n",
       "    }\n",
       "\n",
       "    .dataframe thead th {\n",
       "        text-align: right;\n",
       "    }\n",
       "</style>\n",
       "<table border=\"1\" class=\"dataframe\">\n",
       "  <thead>\n",
       "    <tr style=\"text-align: right;\">\n",
       "      <th></th>\n",
       "      <th>Country Name</th>\n",
       "      <th>Country ISO3</th>\n",
       "      <th>Year</th>\n",
       "      <th>Indicator Name</th>\n",
       "      <th>Indicator Code</th>\n",
       "      <th>Value</th>\n",
       "    </tr>\n",
       "  </thead>\n",
       "  <tbody>\n",
       "    <tr>\n",
       "      <th>0</th>\n",
       "      <td>#country+name</td>\n",
       "      <td>#country+code</td>\n",
       "      <td>#date+year</td>\n",
       "      <td>#indicator+name</td>\n",
       "      <td>#indicator+code</td>\n",
       "      <td>#indicator+value+num</td>\n",
       "    </tr>\n",
       "    <tr>\n",
       "      <th>1</th>\n",
       "      <td>Morocco</td>\n",
       "      <td>MAR</td>\n",
       "      <td>2004</td>\n",
       "      <td>Women who believe a husband is justified in be...</td>\n",
       "      <td>SG.VAW.ARGU.ZS</td>\n",
       "      <td>50.8</td>\n",
       "    </tr>\n",
       "    <tr>\n",
       "      <th>2</th>\n",
       "      <td>Morocco</td>\n",
       "      <td>MAR</td>\n",
       "      <td>2004</td>\n",
       "      <td>Women who believe a husband is justified in be...</td>\n",
       "      <td>SG.VAW.BURN.ZS</td>\n",
       "      <td>23.6</td>\n",
       "    </tr>\n",
       "    <tr>\n",
       "      <th>3</th>\n",
       "      <td>Morocco</td>\n",
       "      <td>MAR</td>\n",
       "      <td>2004</td>\n",
       "      <td>Women who believe a husband is justified in be...</td>\n",
       "      <td>SG.VAW.GOES.ZS</td>\n",
       "      <td>49.5</td>\n",
       "    </tr>\n",
       "    <tr>\n",
       "      <th>4</th>\n",
       "      <td>Morocco</td>\n",
       "      <td>MAR</td>\n",
       "      <td>2004</td>\n",
       "      <td>Women who believe a husband is justified in be...</td>\n",
       "      <td>SG.VAW.NEGL.ZS</td>\n",
       "      <td>49.4</td>\n",
       "    </tr>\n",
       "  </tbody>\n",
       "</table>\n",
       "</div>"
      ],
      "text/plain": [
       "    Country Name   Country ISO3        Year  \\\n",
       "0  #country+name  #country+code  #date+year   \n",
       "1        Morocco            MAR        2004   \n",
       "2        Morocco            MAR        2004   \n",
       "3        Morocco            MAR        2004   \n",
       "4        Morocco            MAR        2004   \n",
       "\n",
       "                                      Indicator Name   Indicator Code  \\\n",
       "0                                    #indicator+name  #indicator+code   \n",
       "1  Women who believe a husband is justified in be...   SG.VAW.ARGU.ZS   \n",
       "2  Women who believe a husband is justified in be...   SG.VAW.BURN.ZS   \n",
       "3  Women who believe a husband is justified in be...   SG.VAW.GOES.ZS   \n",
       "4  Women who believe a husband is justified in be...   SG.VAW.NEGL.ZS   \n",
       "\n",
       "                  Value  \n",
       "0  #indicator+value+num  \n",
       "1                  50.8  \n",
       "2                  23.6  \n",
       "3                  49.5  \n",
       "4                  49.4  "
      ]
     },
     "execution_count": 2,
     "metadata": {},
     "output_type": "execute_result"
    }
   ],
   "source": [
    "# Load csv dataset into a pandas dataframe\n",
    "df = pd.read_csv('health_mar.csv', index_col=False)\n",
    "\n",
    "# Customize display of rows in dataframe\n",
    "pd.set_option('display.max_rows', None)\n",
    "\n",
    "# five row of data\n",
    "df.head()"
   ]
  },
  {
   "cell_type": "code",
   "execution_count": 3,
   "metadata": {},
   "outputs": [
    {
     "data": {
      "text/html": [
       "<div>\n",
       "<style scoped>\n",
       "    .dataframe tbody tr th:only-of-type {\n",
       "        vertical-align: middle;\n",
       "    }\n",
       "\n",
       "    .dataframe tbody tr th {\n",
       "        vertical-align: top;\n",
       "    }\n",
       "\n",
       "    .dataframe thead th {\n",
       "        text-align: right;\n",
       "    }\n",
       "</style>\n",
       "<table border=\"1\" class=\"dataframe\">\n",
       "  <thead>\n",
       "    <tr style=\"text-align: right;\">\n",
       "      <th></th>\n",
       "      <th>Country Name</th>\n",
       "      <th>Country ISO3</th>\n",
       "      <th>Year</th>\n",
       "      <th>Indicator Name</th>\n",
       "      <th>Indicator Code</th>\n",
       "      <th>Value</th>\n",
       "    </tr>\n",
       "  </thead>\n",
       "  <tbody>\n",
       "    <tr>\n",
       "      <th>1</th>\n",
       "      <td>Morocco</td>\n",
       "      <td>MAR</td>\n",
       "      <td>2004</td>\n",
       "      <td>Women who believe a husband is justified in be...</td>\n",
       "      <td>SG.VAW.ARGU.ZS</td>\n",
       "      <td>50.8</td>\n",
       "    </tr>\n",
       "    <tr>\n",
       "      <th>2</th>\n",
       "      <td>Morocco</td>\n",
       "      <td>MAR</td>\n",
       "      <td>2004</td>\n",
       "      <td>Women who believe a husband is justified in be...</td>\n",
       "      <td>SG.VAW.BURN.ZS</td>\n",
       "      <td>23.6</td>\n",
       "    </tr>\n",
       "    <tr>\n",
       "      <th>3</th>\n",
       "      <td>Morocco</td>\n",
       "      <td>MAR</td>\n",
       "      <td>2004</td>\n",
       "      <td>Women who believe a husband is justified in be...</td>\n",
       "      <td>SG.VAW.GOES.ZS</td>\n",
       "      <td>49.5</td>\n",
       "    </tr>\n",
       "    <tr>\n",
       "      <th>4</th>\n",
       "      <td>Morocco</td>\n",
       "      <td>MAR</td>\n",
       "      <td>2004</td>\n",
       "      <td>Women who believe a husband is justified in be...</td>\n",
       "      <td>SG.VAW.NEGL.ZS</td>\n",
       "      <td>49.4</td>\n",
       "    </tr>\n",
       "    <tr>\n",
       "      <th>5</th>\n",
       "      <td>Morocco</td>\n",
       "      <td>MAR</td>\n",
       "      <td>2004</td>\n",
       "      <td>Women who believe a husband is justified in be...</td>\n",
       "      <td>SG.VAW.REAS.ZS</td>\n",
       "      <td>63.9</td>\n",
       "    </tr>\n",
       "  </tbody>\n",
       "</table>\n",
       "</div>"
      ],
      "text/plain": [
       "  Country Name Country ISO3  Year  \\\n",
       "1      Morocco          MAR  2004   \n",
       "2      Morocco          MAR  2004   \n",
       "3      Morocco          MAR  2004   \n",
       "4      Morocco          MAR  2004   \n",
       "5      Morocco          MAR  2004   \n",
       "\n",
       "                                      Indicator Name  Indicator Code Value  \n",
       "1  Women who believe a husband is justified in be...  SG.VAW.ARGU.ZS  50.8  \n",
       "2  Women who believe a husband is justified in be...  SG.VAW.BURN.ZS  23.6  \n",
       "3  Women who believe a husband is justified in be...  SG.VAW.GOES.ZS  49.5  \n",
       "4  Women who believe a husband is justified in be...  SG.VAW.NEGL.ZS  49.4  \n",
       "5  Women who believe a husband is justified in be...  SG.VAW.REAS.ZS  63.9  "
      ]
     },
     "execution_count": 3,
     "metadata": {},
     "output_type": "execute_result"
    }
   ],
   "source": [
    "df.drop(0, inplace=True)\n",
    "df.head()"
   ]
  },
  {
   "cell_type": "markdown",
   "metadata": {},
   "source": [
    "## Basic insight from the data set "
   ]
  },
  {
   "cell_type": "markdown",
   "metadata": {},
   "source": [
    "## Columns"
   ]
  },
  {
   "cell_type": "code",
   "execution_count": 4,
   "metadata": {},
   "outputs": [
    {
     "data": {
      "text/plain": [
       "['Country Name',\n",
       " 'Country ISO3',\n",
       " 'Year',\n",
       " 'Indicator Name',\n",
       " 'Indicator Code',\n",
       " 'Value']"
      ]
     },
     "execution_count": 4,
     "metadata": {},
     "output_type": "execute_result"
    }
   ],
   "source": [
    "# Let chack the columns of dataset\n",
    "df.columns.tolist()"
   ]
  },
  {
   "cell_type": "markdown",
   "metadata": {},
   "source": [
    "## Data types"
   ]
  },
  {
   "cell_type": "code",
   "execution_count": 5,
   "metadata": {},
   "outputs": [
    {
     "data": {
      "text/plain": [
       "Country Name      object\n",
       "Country ISO3      object\n",
       "Year              object\n",
       "Indicator Name    object\n",
       "Indicator Code    object\n",
       "Value             object\n",
       "dtype: object"
      ]
     },
     "execution_count": 5,
     "metadata": {},
     "output_type": "execute_result"
    }
   ],
   "source": [
    "# Check the data type of data frame by .dtypes\n",
    "df.dtypes"
   ]
  },
  {
   "cell_type": "markdown",
   "metadata": {},
   "source": [
    "## Statistical summary of each column"
   ]
  },
  {
   "cell_type": "code",
   "execution_count": 6,
   "metadata": {},
   "outputs": [
    {
     "data": {
      "text/html": [
       "<div>\n",
       "<style scoped>\n",
       "    .dataframe tbody tr th:only-of-type {\n",
       "        vertical-align: middle;\n",
       "    }\n",
       "\n",
       "    .dataframe tbody tr th {\n",
       "        vertical-align: top;\n",
       "    }\n",
       "\n",
       "    .dataframe thead th {\n",
       "        text-align: right;\n",
       "    }\n",
       "</style>\n",
       "<table border=\"1\" class=\"dataframe\">\n",
       "  <thead>\n",
       "    <tr style=\"text-align: right;\">\n",
       "      <th></th>\n",
       "      <th>Country Name</th>\n",
       "      <th>Country ISO3</th>\n",
       "      <th>Year</th>\n",
       "      <th>Indicator Name</th>\n",
       "      <th>Indicator Code</th>\n",
       "      <th>Value</th>\n",
       "    </tr>\n",
       "  </thead>\n",
       "  <tbody>\n",
       "    <tr>\n",
       "      <th>count</th>\n",
       "      <td>8618</td>\n",
       "      <td>8618</td>\n",
       "      <td>8618</td>\n",
       "      <td>8618</td>\n",
       "      <td>8618</td>\n",
       "      <td>8618</td>\n",
       "    </tr>\n",
       "    <tr>\n",
       "      <th>unique</th>\n",
       "      <td>1</td>\n",
       "      <td>1</td>\n",
       "      <td>64</td>\n",
       "      <td>562</td>\n",
       "      <td>562</td>\n",
       "      <td>6935</td>\n",
       "    </tr>\n",
       "    <tr>\n",
       "      <th>top</th>\n",
       "      <td>Morocco</td>\n",
       "      <td>MAR</td>\n",
       "      <td>2004</td>\n",
       "      <td>Net migration</td>\n",
       "      <td>SM.POP.NETM</td>\n",
       "      <td>0.1</td>\n",
       "    </tr>\n",
       "    <tr>\n",
       "      <th>freq</th>\n",
       "      <td>8618</td>\n",
       "      <td>8618</td>\n",
       "      <td>498</td>\n",
       "      <td>64</td>\n",
       "      <td>64</td>\n",
       "      <td>96</td>\n",
       "    </tr>\n",
       "  </tbody>\n",
       "</table>\n",
       "</div>"
      ],
      "text/plain": [
       "       Country Name Country ISO3  Year Indicator Name Indicator Code Value\n",
       "count          8618         8618  8618           8618           8618  8618\n",
       "unique            1            1    64            562            562  6935\n",
       "top         Morocco          MAR  2004  Net migration    SM.POP.NETM   0.1\n",
       "freq           8618         8618   498             64             64    96"
      ]
     },
     "execution_count": 6,
     "metadata": {},
     "output_type": "execute_result"
    }
   ],
   "source": [
    "\n",
    "df.describe()"
   ]
  },
  {
   "cell_type": "markdown",
   "metadata": {},
   "source": [
    "## Info"
   ]
  },
  {
   "cell_type": "code",
   "execution_count": 7,
   "metadata": {},
   "outputs": [
    {
     "name": "stdout",
     "output_type": "stream",
     "text": [
      "<class 'pandas.core.frame.DataFrame'>\n",
      "RangeIndex: 8618 entries, 1 to 8618\n",
      "Data columns (total 6 columns):\n",
      " #   Column          Non-Null Count  Dtype \n",
      "---  ------          --------------  ----- \n",
      " 0   Country Name    8618 non-null   object\n",
      " 1   Country ISO3    8618 non-null   object\n",
      " 2   Year            8618 non-null   object\n",
      " 3   Indicator Name  8618 non-null   object\n",
      " 4   Indicator Code  8618 non-null   object\n",
      " 5   Value           8618 non-null   object\n",
      "dtypes: object(6)\n",
      "memory usage: 404.1+ KB\n"
     ]
    }
   ],
   "source": [
    "df.info()"
   ]
  },
  {
   "cell_type": "code",
   "execution_count": 8,
   "metadata": {},
   "outputs": [
    {
     "name": "stdout",
     "output_type": "stream",
     "text": [
      "Dataset includes 8618 rows and 6 columns\n"
     ]
    }
   ],
   "source": [
    "print(f'Dataset includes {df.shape[0]} rows and {df.shape[1]} columns')"
   ]
  },
  {
   "cell_type": "code",
   "execution_count": 9,
   "metadata": {},
   "outputs": [
    {
     "data": {
      "text/plain": [
       "Indicator Name\n",
       "Net migration                                             64\n",
       "Population ages 30-34, male (% of male population)        63\n",
       "Population ages 70-74, female (% of female population)    63\n",
       "Population ages 05-09, female (% of female population)    63\n",
       "Population ages 0-14 (% of total population)              63\n",
       "Name: count, dtype: int64"
      ]
     },
     "execution_count": 9,
     "metadata": {},
     "output_type": "execute_result"
    }
   ],
   "source": [
    "# Checking data \n",
    "df[df['Indicator Name'] == 'Life expectancy at birth, total (years)'].head()\n",
    "df[df['Indicator Name'] == 'Population ages 15-64, total'].head()\n",
    "df[df['Indicator Name'] == 'Population ages 65 and above, total']\n",
    "df['Indicator Name'].value_counts().head()\n"
   ]
  },
  {
   "cell_type": "markdown",
   "metadata": {},
   "source": [
    "# Data Wrangling"
   ]
  },
  {
   "cell_type": "markdown",
   "metadata": {},
   "source": [
    "Let convert the data from an initial format to a format that may be better to analyze"
   ]
  },
  {
   "cell_type": "markdown",
   "metadata": {},
   "source": [
    "## Identify missing value"
   ]
  },
  {
   "cell_type": "code",
   "execution_count": 10,
   "metadata": {},
   "outputs": [
    {
     "name": "stdout",
     "output_type": "stream",
     "text": [
      "Country Name\n",
      "Country Name\n",
      "False    8618\n",
      "Name: count, dtype: int64\n",
      "\n",
      "Country ISO3\n",
      "Country ISO3\n",
      "False    8618\n",
      "Name: count, dtype: int64\n",
      "\n",
      "Year\n",
      "Year\n",
      "False    8618\n",
      "Name: count, dtype: int64\n",
      "\n",
      "Indicator Name\n",
      "Indicator Name\n",
      "False    8618\n",
      "Name: count, dtype: int64\n",
      "\n",
      "Indicator Code\n",
      "Indicator Code\n",
      "False    8618\n",
      "Name: count, dtype: int64\n",
      "\n",
      "Value\n",
      "Value\n",
      "False    8618\n",
      "Name: count, dtype: int64\n",
      "\n"
     ]
    }
   ],
   "source": [
    "# Create a list of null value and iterate within it  to check any empty field\n",
    "missing_data = df.isnull()\n",
    "for column in missing_data.columns.values.tolist():\n",
    "    print(column)\n",
    "    print (missing_data[column].value_counts())\n",
    "    print(\"\")   "
   ]
  },
  {
   "cell_type": "markdown",
   "metadata": {},
   "source": [
    "The output above shows that there are not  missing value in dataset"
   ]
  },
  {
   "cell_type": "markdown",
   "metadata": {},
   "source": [
    "## Correct the data format"
   ]
  },
  {
   "cell_type": "code",
   "execution_count": 11,
   "metadata": {},
   "outputs": [
    {
     "name": "stdout",
     "output_type": "stream",
     "text": [
      "object\n",
      "float64\n"
     ]
    }
   ],
   "source": [
    "# 'Value' column has a numerical values but should have type of 'float' or 'int'\n",
    "\n",
    "print(df['Value'].dtype)\n",
    "df['Value'] = df['Value'].astype('float')\n",
    "print(df['Value'].dtype)\n"
   ]
  },
  {
   "cell_type": "code",
   "execution_count": 12,
   "metadata": {},
   "outputs": [
    {
     "data": {
      "text/html": [
       "<div>\n",
       "<style scoped>\n",
       "    .dataframe tbody tr th:only-of-type {\n",
       "        vertical-align: middle;\n",
       "    }\n",
       "\n",
       "    .dataframe tbody tr th {\n",
       "        vertical-align: top;\n",
       "    }\n",
       "\n",
       "    .dataframe thead th {\n",
       "        text-align: right;\n",
       "    }\n",
       "</style>\n",
       "<table border=\"1\" class=\"dataframe\">\n",
       "  <thead>\n",
       "    <tr style=\"text-align: right;\">\n",
       "      <th></th>\n",
       "      <th>Country Name</th>\n",
       "      <th>Country ISO3</th>\n",
       "      <th>Year</th>\n",
       "      <th>Indicator Name</th>\n",
       "      <th>Indicator Code</th>\n",
       "      <th>Value</th>\n",
       "    </tr>\n",
       "  </thead>\n",
       "  <tbody>\n",
       "    <tr>\n",
       "      <th>1</th>\n",
       "      <td>Morocco</td>\n",
       "      <td>MAR</td>\n",
       "      <td>2004</td>\n",
       "      <td>Women who believe a husband is justified in be...</td>\n",
       "      <td>SG.VAW.ARGU.ZS</td>\n",
       "      <td>50.8</td>\n",
       "    </tr>\n",
       "    <tr>\n",
       "      <th>2</th>\n",
       "      <td>Morocco</td>\n",
       "      <td>MAR</td>\n",
       "      <td>2004</td>\n",
       "      <td>Women who believe a husband is justified in be...</td>\n",
       "      <td>SG.VAW.BURN.ZS</td>\n",
       "      <td>23.6</td>\n",
       "    </tr>\n",
       "    <tr>\n",
       "      <th>3</th>\n",
       "      <td>Morocco</td>\n",
       "      <td>MAR</td>\n",
       "      <td>2004</td>\n",
       "      <td>Women who believe a husband is justified in be...</td>\n",
       "      <td>SG.VAW.GOES.ZS</td>\n",
       "      <td>49.5</td>\n",
       "    </tr>\n",
       "    <tr>\n",
       "      <th>4</th>\n",
       "      <td>Morocco</td>\n",
       "      <td>MAR</td>\n",
       "      <td>2004</td>\n",
       "      <td>Women who believe a husband is justified in be...</td>\n",
       "      <td>SG.VAW.NEGL.ZS</td>\n",
       "      <td>49.4</td>\n",
       "    </tr>\n",
       "    <tr>\n",
       "      <th>5</th>\n",
       "      <td>Morocco</td>\n",
       "      <td>MAR</td>\n",
       "      <td>2004</td>\n",
       "      <td>Women who believe a husband is justified in be...</td>\n",
       "      <td>SG.VAW.REAS.ZS</td>\n",
       "      <td>63.9</td>\n",
       "    </tr>\n",
       "  </tbody>\n",
       "</table>\n",
       "</div>"
      ],
      "text/plain": [
       "  Country Name Country ISO3  Year  \\\n",
       "1      Morocco          MAR  2004   \n",
       "2      Morocco          MAR  2004   \n",
       "3      Morocco          MAR  2004   \n",
       "4      Morocco          MAR  2004   \n",
       "5      Morocco          MAR  2004   \n",
       "\n",
       "                                      Indicator Name  Indicator Code  Value  \n",
       "1  Women who believe a husband is justified in be...  SG.VAW.ARGU.ZS   50.8  \n",
       "2  Women who believe a husband is justified in be...  SG.VAW.BURN.ZS   23.6  \n",
       "3  Women who believe a husband is justified in be...  SG.VAW.GOES.ZS   49.5  \n",
       "4  Women who believe a husband is justified in be...  SG.VAW.NEGL.ZS   49.4  \n",
       "5  Women who believe a husband is justified in be...  SG.VAW.REAS.ZS   63.9  "
      ]
     },
     "execution_count": 12,
     "metadata": {},
     "output_type": "execute_result"
    }
   ],
   "source": [
    "df.head()"
   ]
  },
  {
   "cell_type": "markdown",
   "metadata": {},
   "source": [
    "# Data Explonatory"
   ]
  },
  {
   "cell_type": "code",
   "execution_count": 13,
   "metadata": {},
   "outputs": [],
   "source": [
    "# df[df['Indicator Name']=='Population, total']['Value'].item()\n",
    "df.sort_values('Year', inplace=True)"
   ]
  },
  {
   "cell_type": "code",
   "execution_count": 14,
   "metadata": {},
   "outputs": [
    {
     "data": {
      "text/html": [
       "<div>\n",
       "<style scoped>\n",
       "    .dataframe tbody tr th:only-of-type {\n",
       "        vertical-align: middle;\n",
       "    }\n",
       "\n",
       "    .dataframe tbody tr th {\n",
       "        vertical-align: top;\n",
       "    }\n",
       "\n",
       "    .dataframe thead th {\n",
       "        text-align: right;\n",
       "    }\n",
       "</style>\n",
       "<table border=\"1\" class=\"dataframe\">\n",
       "  <thead>\n",
       "    <tr style=\"text-align: right;\">\n",
       "      <th></th>\n",
       "      <th>Country Name</th>\n",
       "      <th>Country ISO3</th>\n",
       "      <th>Year</th>\n",
       "      <th>Indicator Name</th>\n",
       "      <th>Indicator Code</th>\n",
       "      <th>Value</th>\n",
       "    </tr>\n",
       "  </thead>\n",
       "  <tbody>\n",
       "    <tr>\n",
       "      <th>4718</th>\n",
       "      <td>Morocco</td>\n",
       "      <td>MAR</td>\n",
       "      <td>1960</td>\n",
       "      <td>Population ages 15-64, male</td>\n",
       "      <td>SP.POP.1564.MA.IN</td>\n",
       "      <td>3.013599e+06</td>\n",
       "    </tr>\n",
       "    <tr>\n",
       "      <th>5285</th>\n",
       "      <td>Morocco</td>\n",
       "      <td>MAR</td>\n",
       "      <td>1960</td>\n",
       "      <td>Population ages 30-34, male (% of male populat...</td>\n",
       "      <td>SP.POP.3034.MA.5Y</td>\n",
       "      <td>7.221266e+00</td>\n",
       "    </tr>\n",
       "    <tr>\n",
       "      <th>5600</th>\n",
       "      <td>Morocco</td>\n",
       "      <td>MAR</td>\n",
       "      <td>1960</td>\n",
       "      <td>Population ages 45-49, female (% of female pop...</td>\n",
       "      <td>SP.POP.4549.FE.5Y</td>\n",
       "      <td>2.931806e+00</td>\n",
       "    </tr>\n",
       "    <tr>\n",
       "      <th>3631</th>\n",
       "      <td>Morocco</td>\n",
       "      <td>MAR</td>\n",
       "      <td>1960</td>\n",
       "      <td>Survival to age 65, male (% of cohort)</td>\n",
       "      <td>SP.DYN.TO65.MA.ZS</td>\n",
       "      <td>2.880188e+01</td>\n",
       "    </tr>\n",
       "    <tr>\n",
       "      <th>6419</th>\n",
       "      <td>Morocco</td>\n",
       "      <td>MAR</td>\n",
       "      <td>1960</td>\n",
       "      <td>Population ages 65 and above, male (% of male ...</td>\n",
       "      <td>SP.POP.65UP.MA.ZS</td>\n",
       "      <td>2.565647e+00</td>\n",
       "    </tr>\n",
       "  </tbody>\n",
       "</table>\n",
       "</div>"
      ],
      "text/plain": [
       "     Country Name Country ISO3  Year  \\\n",
       "4718      Morocco          MAR  1960   \n",
       "5285      Morocco          MAR  1960   \n",
       "5600      Morocco          MAR  1960   \n",
       "3631      Morocco          MAR  1960   \n",
       "6419      Morocco          MAR  1960   \n",
       "\n",
       "                                         Indicator Name     Indicator Code  \\\n",
       "4718                        Population ages 15-64, male  SP.POP.1564.MA.IN   \n",
       "5285  Population ages 30-34, male (% of male populat...  SP.POP.3034.MA.5Y   \n",
       "5600  Population ages 45-49, female (% of female pop...  SP.POP.4549.FE.5Y   \n",
       "3631             Survival to age 65, male (% of cohort)  SP.DYN.TO65.MA.ZS   \n",
       "6419  Population ages 65 and above, male (% of male ...  SP.POP.65UP.MA.ZS   \n",
       "\n",
       "             Value  \n",
       "4718  3.013599e+06  \n",
       "5285  7.221266e+00  \n",
       "5600  2.931806e+00  \n",
       "3631  2.880188e+01  \n",
       "6419  2.565647e+00  "
      ]
     },
     "execution_count": 14,
     "metadata": {},
     "output_type": "execute_result"
    }
   ],
   "source": [
    "df.head()"
   ]
  },
  {
   "cell_type": "markdown",
   "metadata": {},
   "source": [
    "### Demographic evolution From 1960 to 2022"
   ]
  },
  {
   "cell_type": "code",
   "execution_count": 15,
   "metadata": {},
   "outputs": [
    {
     "data": {
      "text/html": [
       "<div>\n",
       "<style scoped>\n",
       "    .dataframe tbody tr th:only-of-type {\n",
       "        vertical-align: middle;\n",
       "    }\n",
       "\n",
       "    .dataframe tbody tr th {\n",
       "        vertical-align: top;\n",
       "    }\n",
       "\n",
       "    .dataframe thead th {\n",
       "        text-align: right;\n",
       "    }\n",
       "</style>\n",
       "<table border=\"1\" class=\"dataframe\">\n",
       "  <thead>\n",
       "    <tr style=\"text-align: right;\">\n",
       "      <th></th>\n",
       "      <th>Country Name</th>\n",
       "      <th>Country ISO3</th>\n",
       "      <th>Year</th>\n",
       "      <th>Indicator Name</th>\n",
       "      <th>Indicator Code</th>\n",
       "      <th>Value</th>\n",
       "    </tr>\n",
       "  </thead>\n",
       "  <tbody>\n",
       "    <tr>\n",
       "      <th>7299</th>\n",
       "      <td>Morocco</td>\n",
       "      <td>MAR</td>\n",
       "      <td>1960</td>\n",
       "      <td>Population, total</td>\n",
       "      <td>SP.POP.TOTL</td>\n",
       "      <td>11769774.0</td>\n",
       "    </tr>\n",
       "    <tr>\n",
       "      <th>7298</th>\n",
       "      <td>Morocco</td>\n",
       "      <td>MAR</td>\n",
       "      <td>1961</td>\n",
       "      <td>Population, total</td>\n",
       "      <td>SP.POP.TOTL</td>\n",
       "      <td>12081713.0</td>\n",
       "    </tr>\n",
       "    <tr>\n",
       "      <th>7297</th>\n",
       "      <td>Morocco</td>\n",
       "      <td>MAR</td>\n",
       "      <td>1962</td>\n",
       "      <td>Population, total</td>\n",
       "      <td>SP.POP.TOTL</td>\n",
       "      <td>12404757.0</td>\n",
       "    </tr>\n",
       "    <tr>\n",
       "      <th>7296</th>\n",
       "      <td>Morocco</td>\n",
       "      <td>MAR</td>\n",
       "      <td>1963</td>\n",
       "      <td>Population, total</td>\n",
       "      <td>SP.POP.TOTL</td>\n",
       "      <td>12726686.0</td>\n",
       "    </tr>\n",
       "    <tr>\n",
       "      <th>7295</th>\n",
       "      <td>Morocco</td>\n",
       "      <td>MAR</td>\n",
       "      <td>1964</td>\n",
       "      <td>Population, total</td>\n",
       "      <td>SP.POP.TOTL</td>\n",
       "      <td>13044254.0</td>\n",
       "    </tr>\n",
       "  </tbody>\n",
       "</table>\n",
       "</div>"
      ],
      "text/plain": [
       "     Country Name Country ISO3  Year     Indicator Name Indicator Code  \\\n",
       "7299      Morocco          MAR  1960  Population, total    SP.POP.TOTL   \n",
       "7298      Morocco          MAR  1961  Population, total    SP.POP.TOTL   \n",
       "7297      Morocco          MAR  1962  Population, total    SP.POP.TOTL   \n",
       "7296      Morocco          MAR  1963  Population, total    SP.POP.TOTL   \n",
       "7295      Morocco          MAR  1964  Population, total    SP.POP.TOTL   \n",
       "\n",
       "           Value  \n",
       "7299  11769774.0  \n",
       "7298  12081713.0  \n",
       "7297  12404757.0  \n",
       "7296  12726686.0  \n",
       "7295  13044254.0  "
      ]
     },
     "execution_count": 15,
     "metadata": {},
     "output_type": "execute_result"
    }
   ],
   "source": [
    "# Fetch only 'population, total' from 'Indicator Name' column\n",
    "population = df[df['Indicator Name'] == 'Population, total']\n",
    "population.head()"
   ]
  },
  {
   "cell_type": "code",
   "execution_count": 16,
   "metadata": {},
   "outputs": [
    {
     "data": {
      "text/plain": [
       "Text(0.5, 0, 'Years')"
      ]
     },
     "execution_count": 16,
     "metadata": {},
     "output_type": "execute_result"
    },
    {
     "data": {
      "image/png": "[encoded data removed]",
      "text/plain": [
       "<Figure size 640x480 with 1 Axes>"
      ]
     },
     "metadata": {},
     "output_type": "display_data"
    }
   ],
   "source": [
    "# Normalize population total for plotting\n",
    "population['Value'] = population['Value'] / 1000000\n",
    "\n",
    "# using line plot to display the total of population vs years\n",
    "population.groupby(population['Year'])['Value'].sum().plot()\n",
    "plt.title('Line of population growth in last 62 years ')\n",
    "plt.ylabel('Population (in millions)')\n",
    "plt.xlabel('Years')"
   ]
  },
  {
   "cell_type": "code",
   "execution_count": 17,
   "metadata": {},
   "outputs": [
    {
     "data": {
      "text/html": [
       "<div>\n",
       "<style scoped>\n",
       "    .dataframe tbody tr th:only-of-type {\n",
       "        vertical-align: middle;\n",
       "    }\n",
       "\n",
       "    .dataframe tbody tr th {\n",
       "        vertical-align: top;\n",
       "    }\n",
       "\n",
       "    .dataframe thead th {\n",
       "        text-align: right;\n",
       "    }\n",
       "</style>\n",
       "<table border=\"1\" class=\"dataframe\">\n",
       "  <thead>\n",
       "    <tr style=\"text-align: right;\">\n",
       "      <th></th>\n",
       "      <th>Country Name</th>\n",
       "      <th>Country ISO3</th>\n",
       "      <th>Year</th>\n",
       "      <th>Indicator Name</th>\n",
       "      <th>Indicator Code</th>\n",
       "      <th>Value</th>\n",
       "    </tr>\n",
       "  </thead>\n",
       "  <tbody>\n",
       "    <tr>\n",
       "      <th>4718</th>\n",
       "      <td>Morocco</td>\n",
       "      <td>MAR</td>\n",
       "      <td>1960</td>\n",
       "      <td>Population ages 15-64, male</td>\n",
       "      <td>SP.POP.1564.MA.IN</td>\n",
       "      <td>3.013599e+06</td>\n",
       "    </tr>\n",
       "    <tr>\n",
       "      <th>5285</th>\n",
       "      <td>Morocco</td>\n",
       "      <td>MAR</td>\n",
       "      <td>1960</td>\n",
       "      <td>Population ages 30-34, male (% of male populat...</td>\n",
       "      <td>SP.POP.3034.MA.5Y</td>\n",
       "      <td>7.221266e+00</td>\n",
       "    </tr>\n",
       "    <tr>\n",
       "      <th>5600</th>\n",
       "      <td>Morocco</td>\n",
       "      <td>MAR</td>\n",
       "      <td>1960</td>\n",
       "      <td>Population ages 45-49, female (% of female pop...</td>\n",
       "      <td>SP.POP.4549.FE.5Y</td>\n",
       "      <td>2.931806e+00</td>\n",
       "    </tr>\n",
       "    <tr>\n",
       "      <th>3631</th>\n",
       "      <td>Morocco</td>\n",
       "      <td>MAR</td>\n",
       "      <td>1960</td>\n",
       "      <td>Survival to age 65, male (% of cohort)</td>\n",
       "      <td>SP.DYN.TO65.MA.ZS</td>\n",
       "      <td>2.880188e+01</td>\n",
       "    </tr>\n",
       "    <tr>\n",
       "      <th>6419</th>\n",
       "      <td>Morocco</td>\n",
       "      <td>MAR</td>\n",
       "      <td>1960</td>\n",
       "      <td>Population ages 65 and above, male (% of male ...</td>\n",
       "      <td>SP.POP.65UP.MA.ZS</td>\n",
       "      <td>2.565647e+00</td>\n",
       "    </tr>\n",
       "  </tbody>\n",
       "</table>\n",
       "</div>"
      ],
      "text/plain": [
       "     Country Name Country ISO3  Year  \\\n",
       "4718      Morocco          MAR  1960   \n",
       "5285      Morocco          MAR  1960   \n",
       "5600      Morocco          MAR  1960   \n",
       "3631      Morocco          MAR  1960   \n",
       "6419      Morocco          MAR  1960   \n",
       "\n",
       "                                         Indicator Name     Indicator Code  \\\n",
       "4718                        Population ages 15-64, male  SP.POP.1564.MA.IN   \n",
       "5285  Population ages 30-34, male (% of male populat...  SP.POP.3034.MA.5Y   \n",
       "5600  Population ages 45-49, female (% of female pop...  SP.POP.4549.FE.5Y   \n",
       "3631             Survival to age 65, male (% of cohort)  SP.DYN.TO65.MA.ZS   \n",
       "6419  Population ages 65 and above, male (% of male ...  SP.POP.65UP.MA.ZS   \n",
       "\n",
       "             Value  \n",
       "4718  3.013599e+06  \n",
       "5285  7.221266e+00  \n",
       "5600  2.931806e+00  \n",
       "3631  2.880188e+01  \n",
       "6419  2.565647e+00  "
      ]
     },
     "execution_count": 17,
     "metadata": {},
     "output_type": "execute_result"
    }
   ],
   "source": [
    "df.head()"
   ]
  },
  {
   "cell_type": "code",
   "execution_count": 18,
   "metadata": {},
   "outputs": [
    {
     "data": {
      "text/html": [
       "<div>\n",
       "<style scoped>\n",
       "    .dataframe tbody tr th:only-of-type {\n",
       "        vertical-align: middle;\n",
       "    }\n",
       "\n",
       "    .dataframe tbody tr th {\n",
       "        vertical-align: top;\n",
       "    }\n",
       "\n",
       "    .dataframe thead th {\n",
       "        text-align: right;\n",
       "    }\n",
       "</style>\n",
       "<table border=\"1\" class=\"dataframe\">\n",
       "  <thead>\n",
       "    <tr style=\"text-align: right;\">\n",
       "      <th></th>\n",
       "      <th>Country Name</th>\n",
       "      <th>Country ISO3</th>\n",
       "      <th>Year</th>\n",
       "      <th>Indicator Name</th>\n",
       "      <th>Indicator Code</th>\n",
       "      <th>Value</th>\n",
       "    </tr>\n",
       "  </thead>\n",
       "  <tbody>\n",
       "    <tr>\n",
       "      <th>7488</th>\n",
       "      <td>Morocco</td>\n",
       "      <td>MAR</td>\n",
       "      <td>1960</td>\n",
       "      <td>Population, male</td>\n",
       "      <td>SP.POP.TOTL.MA.IN</td>\n",
       "      <td>5875029.0</td>\n",
       "    </tr>\n",
       "    <tr>\n",
       "      <th>7362</th>\n",
       "      <td>Morocco</td>\n",
       "      <td>MAR</td>\n",
       "      <td>1960</td>\n",
       "      <td>Population, female</td>\n",
       "      <td>SP.POP.TOTL.FE.IN</td>\n",
       "      <td>5894745.0</td>\n",
       "    </tr>\n",
       "    <tr>\n",
       "      <th>7487</th>\n",
       "      <td>Morocco</td>\n",
       "      <td>MAR</td>\n",
       "      <td>1961</td>\n",
       "      <td>Population, male</td>\n",
       "      <td>SP.POP.TOTL.MA.IN</td>\n",
       "      <td>6033311.0</td>\n",
       "    </tr>\n",
       "    <tr>\n",
       "      <th>7361</th>\n",
       "      <td>Morocco</td>\n",
       "      <td>MAR</td>\n",
       "      <td>1961</td>\n",
       "      <td>Population, female</td>\n",
       "      <td>SP.POP.TOTL.FE.IN</td>\n",
       "      <td>6048401.0</td>\n",
       "    </tr>\n",
       "    <tr>\n",
       "      <th>7360</th>\n",
       "      <td>Morocco</td>\n",
       "      <td>MAR</td>\n",
       "      <td>1962</td>\n",
       "      <td>Population, female</td>\n",
       "      <td>SP.POP.TOTL.FE.IN</td>\n",
       "      <td>6208208.0</td>\n",
       "    </tr>\n",
       "  </tbody>\n",
       "</table>\n",
       "</div>"
      ],
      "text/plain": [
       "     Country Name Country ISO3  Year      Indicator Name     Indicator Code  \\\n",
       "7488      Morocco          MAR  1960    Population, male  SP.POP.TOTL.MA.IN   \n",
       "7362      Morocco          MAR  1960  Population, female  SP.POP.TOTL.FE.IN   \n",
       "7487      Morocco          MAR  1961    Population, male  SP.POP.TOTL.MA.IN   \n",
       "7361      Morocco          MAR  1961  Population, female  SP.POP.TOTL.FE.IN   \n",
       "7360      Morocco          MAR  1962  Population, female  SP.POP.TOTL.FE.IN   \n",
       "\n",
       "          Value  \n",
       "7488  5875029.0  \n",
       "7362  5894745.0  \n",
       "7487  6033311.0  \n",
       "7361  6048401.0  \n",
       "7360  6208208.0  "
      ]
     },
     "execution_count": 18,
     "metadata": {},
     "output_type": "execute_result"
    }
   ],
   "source": [
    "population_gender = df.loc[(df['Indicator Name'] == \"Population, male\")| (df['Indicator Name'] == \"Population, female\")]\n",
    "\n",
    "population_gender.head()"
   ]
  },
  {
   "cell_type": "code",
   "execution_count": 19,
   "metadata": {},
   "outputs": [
    {
     "data": {
      "text/plain": [
       "<matplotlib.legend.Legend at 0x1557e3e6870>"
      ]
     },
     "execution_count": 19,
     "metadata": {},
     "output_type": "execute_result"
    },
    {
     "data": {
      "image/png": "[encoded data removed]",
      "text/plain": [
       "<Figure size 1500x400 with 2 Axes>"
      ]
     },
     "metadata": {},
     "output_type": "display_data"
    }
   ],
   "source": [
    "# Population value of gender needs to be nomarlized\n",
    "population_gender['Value'] = population_gender['Value'].astype(int)\n",
    "population_gender['Value'] = population_gender['Value'] / 1000000\n",
    "\n",
    "fig , axe = plt.subplots(1,2, figsize = (15, 4))\n",
    "axe[0].bar(population_gender['Indicator Name'],  population_gender['Value'] )\n",
    "axe[0].set_title('Gender Distribution  in 2022')\n",
    "axe[0].set_ylabel('Population in millions')\n",
    "axe[0].set_xlabel('Gender')\n",
    "\n",
    "year = np.arange(1960, 2023)\n",
    "\n",
    "\n",
    "axe[1].plot(year,  population_gender['Value'][population_gender['Indicator Name'] == 'Population, female'] )\n",
    "axe[1].plot(year,  population_gender['Value'][population_gender['Indicator Name'] == 'Population, male'] )\n",
    "axe[1].set_title('Gender Distribution between 1960 and 2022 ')\n",
    "axe[1].set_ylabel('Population in millions')\n",
    "axe[1].set_xlabel('Years')\n",
    "axe[1].legend(['Female', 'Male'])\n"
   ]
  },
  {
   "cell_type": "markdown",
   "metadata": {},
   "source": [
    "We notice  that male and female lines are closely increased with small decline of female growth in last ten years"
   ]
  },
  {
   "cell_type": "code",
   "execution_count": 20,
   "metadata": {},
   "outputs": [
    {
     "data": {
      "text/html": [
       "<div>\n",
       "<style scoped>\n",
       "    .dataframe tbody tr th:only-of-type {\n",
       "        vertical-align: middle;\n",
       "    }\n",
       "\n",
       "    .dataframe tbody tr th {\n",
       "        vertical-align: top;\n",
       "    }\n",
       "\n",
       "    .dataframe thead th {\n",
       "        text-align: right;\n",
       "    }\n",
       "</style>\n",
       "<table border=\"1\" class=\"dataframe\">\n",
       "  <thead>\n",
       "    <tr style=\"text-align: right;\">\n",
       "      <th></th>\n",
       "      <th>Country Name</th>\n",
       "      <th>Country ISO3</th>\n",
       "      <th>Year</th>\n",
       "      <th>Indicator Name</th>\n",
       "      <th>Indicator Code</th>\n",
       "      <th>Value</th>\n",
       "    </tr>\n",
       "  </thead>\n",
       "  <tbody>\n",
       "    <tr>\n",
       "      <th>4718</th>\n",
       "      <td>Morocco</td>\n",
       "      <td>MAR</td>\n",
       "      <td>1960</td>\n",
       "      <td>Population ages 15-64, male</td>\n",
       "      <td>SP.POP.1564.MA.IN</td>\n",
       "      <td>3.013599e+06</td>\n",
       "    </tr>\n",
       "    <tr>\n",
       "      <th>5285</th>\n",
       "      <td>Morocco</td>\n",
       "      <td>MAR</td>\n",
       "      <td>1960</td>\n",
       "      <td>Population ages 30-34, male (% of male populat...</td>\n",
       "      <td>SP.POP.3034.MA.5Y</td>\n",
       "      <td>7.221266e+00</td>\n",
       "    </tr>\n",
       "    <tr>\n",
       "      <th>5600</th>\n",
       "      <td>Morocco</td>\n",
       "      <td>MAR</td>\n",
       "      <td>1960</td>\n",
       "      <td>Population ages 45-49, female (% of female pop...</td>\n",
       "      <td>SP.POP.4549.FE.5Y</td>\n",
       "      <td>2.931806e+00</td>\n",
       "    </tr>\n",
       "    <tr>\n",
       "      <th>6419</th>\n",
       "      <td>Morocco</td>\n",
       "      <td>MAR</td>\n",
       "      <td>1960</td>\n",
       "      <td>Population ages 65 and above, male (% of male ...</td>\n",
       "      <td>SP.POP.65UP.MA.ZS</td>\n",
       "      <td>2.565647e+00</td>\n",
       "    </tr>\n",
       "    <tr>\n",
       "      <th>7488</th>\n",
       "      <td>Morocco</td>\n",
       "      <td>MAR</td>\n",
       "      <td>1960</td>\n",
       "      <td>Population, male</td>\n",
       "      <td>SP.POP.TOTL.MA.IN</td>\n",
       "      <td>5.875029e+06</td>\n",
       "    </tr>\n",
       "  </tbody>\n",
       "</table>\n",
       "</div>"
      ],
      "text/plain": [
       "     Country Name Country ISO3  Year  \\\n",
       "4718      Morocco          MAR  1960   \n",
       "5285      Morocco          MAR  1960   \n",
       "5600      Morocco          MAR  1960   \n",
       "6419      Morocco          MAR  1960   \n",
       "7488      Morocco          MAR  1960   \n",
       "\n",
       "                                         Indicator Name     Indicator Code  \\\n",
       "4718                        Population ages 15-64, male  SP.POP.1564.MA.IN   \n",
       "5285  Population ages 30-34, male (% of male populat...  SP.POP.3034.MA.5Y   \n",
       "5600  Population ages 45-49, female (% of female pop...  SP.POP.4549.FE.5Y   \n",
       "6419  Population ages 65 and above, male (% of male ...  SP.POP.65UP.MA.ZS   \n",
       "7488                                   Population, male  SP.POP.TOTL.MA.IN   \n",
       "\n",
       "             Value  \n",
       "4718  3.013599e+06  \n",
       "5285  7.221266e+00  \n",
       "5600  2.931806e+00  \n",
       "6419  2.565647e+00  \n",
       "7488  5.875029e+06  "
      ]
     },
     "execution_count": 20,
     "metadata": {},
     "output_type": "execute_result"
    }
   ],
   "source": [
    "# let look for rows in which includes Population \n",
    "\n",
    "df_population = df[df['Indicator Name'].str.contains(\"Population\")]\n",
    "\n",
    "df_population.head()"
   ]
  },
  {
   "cell_type": "markdown",
   "metadata": {},
   "source": [
    "We need to display the population differences based on age range"
   ]
  },
  {
   "cell_type": "code",
   "execution_count": 21,
   "metadata": {},
   "outputs": [
    {
     "data": {
      "text/plain": [
       "Text(0.5, 0, 'Years')"
      ]
     },
     "execution_count": 21,
     "metadata": {},
     "output_type": "execute_result"
    },
    {
     "data": {
      "image/png": "[encoded data removed]",
      "text/plain": [
       "<Figure size 1500x500 with 2 Axes>"
      ]
     },
     "metadata": {},
     "output_type": "display_data"
    }
   ],
   "source": [
    "# filter the dataset and get only population ages 15-64 and population ages 64 and above ranges\n",
    "\n",
    "population_agegroup = df.loc[(df['Indicator Name'] == \"Population ages 15-64, total\") | (df['Indicator Name'] == \"Population ages 65 and above, total\")]\n",
    "\n",
    "# Nomalize value of ranges from millions to tens\n",
    "population_agegroup['Value'] = population_agegroup['Value'] / 1000000\n",
    "\n",
    "# Create a double axes to plot box plot and pie plot\n",
    "fig , axe = plt.subplots(1,2, figsize = (15,5))\n",
    "\n",
    "axe[0].fill_between(year,  population_agegroup['Value'][population_agegroup['Indicator Name'] == 'Population ages 15-64, total'], alpha=.5 )\n",
    "\n",
    "axe[0].fill_between(year,  population_agegroup['Value'][population_agegroup['Indicator Name'] == 'Population ages 65 and above, total'] , alpha=.5)\n",
    "\n",
    "axe[0].set_title('Age groups comparaison ')\n",
    "\n",
    "axe[0].set_ylabel('Population in millions')\n",
    "\n",
    "axe[0].set_xlabel('Years')\n",
    "\n",
    "axe[0].legend(['Populatin ages 15-64', 'Population ages 65 and above'], loc = 2)\n",
    "\n",
    "# let plot the life expectency at birth of total population\n",
    "year = np.arange(1960, 2022)\n",
    "\n",
    "axe[1].plot(year,  df['Value'][df['Indicator Name'] == 'Life expectancy at birth, total (years)'] )\n",
    "\n",
    "axe[1].set_title('Life expectancy at birth ages vs years')\n",
    "\n",
    "axe[1].set_ylabel('Ages')\n",
    "\n",
    "axe[1].set_xlabel('Years')\n",
    "\n",
    "\n"
   ]
  },
  {
   "cell_type": "code",
   "execution_count": null,
   "metadata": {},
   "outputs": [],
   "source": [
    "\n"
   ]
  },
  {
   "cell_type": "code",
   "execution_count": null,
   "metadata": {},
   "outputs": [],
   "source": []
  }
 ],
 "metadata": {
  "kernelspec": {
   "display_name": "Python 3",
   "language": "python",
   "name": "python3"
  },
  "language_info": {
   "codemirror_mode": {
    "name": "ipython",
    "version": 3
   },
   "file_extension": ".py",
   "mimetype": "text/x-python",
   "name": "python",
   "nbconvert_exporter": "python",
   "pygments_lexer": "ipython3",
   "version": "3.12.0"
  }
 },
 "nbformat": 4,
 "nbformat_minor": 2
}
